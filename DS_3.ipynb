{
  "nbformat": 4,
  "nbformat_minor": 0,
  "metadata": {
    "colab": {
      "name": "DS 3.ipynb",
      "provenance": [],
      "collapsed_sections": [],
      "mount_file_id": "1pjCZX58aNeu2uWe7HipreSkucWFFFARF",
      "authorship_tag": "ABX9TyOj4OLoTFBd2mPlDhNQZ+yQ",
      "include_colab_link": true
    },
    "kernelspec": {
      "name": "python3",
      "display_name": "Python 3"
    },
    "language_info": {
      "name": "python"
    }
  },
  "cells": [
    {
      "cell_type": "markdown",
      "metadata": {
        "id": "view-in-github",
        "colab_type": "text"
      },
      "source": [
        "<a href=\"https://colab.research.google.com/github/beatricexc/DS-Practice-3/blob/main/DS_3.ipynb\" target=\"_parent\"><img src=\"https://colab.research.google.com/assets/colab-badge.svg\" alt=\"Open In Colab\"/></a>"
      ]
    },
    {
      "cell_type": "code",
      "execution_count": 48,
      "metadata": {
        "id": "6YaBs6oEqS_N"
      },
      "outputs": [],
      "source": [
        "import numpy as np #linear algebra\n",
        "import pandas as pd # data processing, CSV files (e.g pd.read_csv)\n",
        "import matplotlib.pyplot as plt \n",
        "import seaborn as sns # visualisation tool \n"
      ]
    },
    {
      "cell_type": "markdown",
      "source": [
        "###**Lambda Function**\n",
        "\n",
        "The faster way of writing a function"
      ],
      "metadata": {
        "id": "ifTxRg1NK4fA"
      }
    },
    {
      "cell_type": "code",
      "source": [
        "# lambda function\n",
        "\n",
        "square = lambda x : x**2      # where x is the name of the argument \n",
        "print(square(4))\n",
        "tot = lambda x, y, z: x+y+z   # where x, y, z are the names of the arguments \n",
        "print(tot(1,2,3))"
      ],
      "metadata": {
        "colab": {
          "base_uri": "https://localhost:8080/"
        },
        "id": "9Xm6uKRiK_-3",
        "outputId": "93d7f9ee-cccb-4f08-eaab-f133b201d85d"
      },
      "execution_count": 19,
      "outputs": [
        {
          "output_type": "stream",
          "name": "stdout",
          "text": [
            "16\n",
            "6\n"
          ]
        }
      ]
    },
    {
      "cell_type": "markdown",
      "source": [
        "## Anonymous Function\n",
        "It is similar to the lambda function but it can take more than one arguments\n",
        " - map(func,seq) : applies a function to all the items in a list "
      ],
      "metadata": {
        "id": "TZ2MpKG7SNdl"
      }
    },
    {
      "cell_type": "code",
      "source": [
        "number_list = [1, 2, 3]\n",
        "y = map(lambda x : x**2, number_list)\n",
        "print(list(y))"
      ],
      "metadata": {
        "colab": {
          "base_uri": "https://localhost:8080/"
        },
        "id": "gpp9ZuBcSieM",
        "outputId": "e7daad65-9e78-4783-d2a0-594792be8725"
      },
      "execution_count": 20,
      "outputs": [
        {
          "output_type": "stream",
          "name": "stdout",
          "text": [
            "[1, 4, 9]\n"
          ]
        }
      ]
    },
    {
      "cell_type": "markdown",
      "source": [
        "## Iterators \n",
        "- objects that allow you to traverse through all the elements of a collection and return one element at a time \n",
        " - iterator = an object that contains a countable number of elements that can be iterated upon"
      ],
      "metadata": {
        "id": "ju76uHudS4pM"
      }
    },
    {
      "cell_type": "code",
      "source": [
        "# iteration example\n",
        "name = \"Gloria\"\n",
        "it = iter(name)\n",
        "print(next(it)) # print next iteration\n",
        "print(*it)"
      ],
      "metadata": {
        "colab": {
          "base_uri": "https://localhost:8080/"
        },
        "id": "tUBnlUDwU0Zc",
        "outputId": "9d5c2d5b-cc30-400a-d837-c548a486cf16"
      },
      "execution_count": 23,
      "outputs": [
        {
          "output_type": "stream",
          "name": "stdout",
          "text": [
            "G\n",
            "l o r i a\n"
          ]
        }
      ]
    },
    {
      "cell_type": "markdown",
      "source": [
        "zip(): zip lists\n",
        "- The zip() function takes iterables (can be zero or more), aggregates them in a tuple, and returns it."
      ],
      "metadata": {
        "id": "1XGmIkkJVBUb"
      }
    },
    {
      "cell_type": "code",
      "source": [
        "# zip example\n",
        "list1 = [1,2,3,4]\n",
        "list2 = [5,6,7,8]\n",
        "z = zip(list1, list2)\n",
        "print(z)\n",
        "z_list = list(z)\n",
        "print(z_list)"
      ],
      "metadata": {
        "colab": {
          "base_uri": "https://localhost:8080/"
        },
        "id": "FSFc7JRYVEYz",
        "outputId": "614fc1ab-5d19-4298-97eb-38c6fbb30bc9"
      },
      "execution_count": 24,
      "outputs": [
        {
          "output_type": "stream",
          "name": "stdout",
          "text": [
            "<zip object at 0x7f3da0ab2820>\n",
            "[(1, 5), (2, 6), (3, 7), (4, 8)]\n"
          ]
        }
      ]
    },
    {
      "cell_type": "code",
      "source": [
        "languages  = ['Java', 'Python', 'C++']\n",
        "versions = [14, 3, 20]\n",
        "result = zip(languages, versions)\n",
        "print(list(result))"
      ],
      "metadata": {
        "colab": {
          "base_uri": "https://localhost:8080/"
        },
        "id": "qSWdz0VFVg8M",
        "outputId": "9fa43f29-92f7-41fa-a006-c9dcbb6a796b"
      },
      "execution_count": 25,
      "outputs": [
        {
          "output_type": "stream",
          "name": "stdout",
          "text": [
            "[('Java', 14), ('Python', 3), ('C++', 20)]\n"
          ]
        }
      ]
    },
    {
      "cell_type": "code",
      "source": [
        "un_zip = zip(*z_list )\n",
        "un_list1,un_list2 = list(un_zip) #unzip returns tuple\n",
        "print(un_list1)\n",
        "print(un_list2)\n",
        "print(type(un_list2))"
      ],
      "metadata": {
        "colab": {
          "base_uri": "https://localhost:8080/"
        },
        "id": "LEbapFp6WsPC",
        "outputId": "14c42f95-c271-46bd-c2fd-1f42d5fce88c"
      },
      "execution_count": 26,
      "outputs": [
        {
          "output_type": "stream",
          "name": "stdout",
          "text": [
            "(1, 2, 3, 4)\n",
            "(5, 6, 7, 8)\n",
            "<class 'tuple'>\n"
          ]
        }
      ]
    },
    {
      "cell_type": "markdown",
      "source": [
        "## List Comprehension\n",
        "\n",
        "Suppose we want to separate the letters of the word \"fast\" and add the letters as items of a list.\n",
        " -- can be done with \"for loops\" as below but!"
      ],
      "metadata": {
        "id": "j1CqKWUnYhmZ"
      }
    },
    {
      "cell_type": "code",
      "source": [
        "h_letters = []\n",
        "\n",
        "for letter in 'fast':\n",
        "  h_letters.append(letter)\n",
        "print(h_letters)"
      ],
      "metadata": {
        "colab": {
          "base_uri": "https://localhost:8080/"
        },
        "id": "v8i7zhVGZEjw",
        "outputId": "dfd11809-7d84-4d63-c3de-f4fbe9084e28"
      },
      "execution_count": 32,
      "outputs": [
        {
          "output_type": "stream",
          "name": "stdout",
          "text": [
            "['f', 'a', 's', 't']\n"
          ]
        }
      ]
    },
    {
      "cell_type": "markdown",
      "source": [
        "We can get this result with something easier called : list comprehension\n",
        "List comprehension is an elegant way to define and create lists based on existing lists"
      ],
      "metadata": {
        "id": "jRxkuo93ZjZN"
      }
    },
    {
      "cell_type": "markdown",
      "source": [
        ""
      ],
      "metadata": {
        "id": "7g8uhRCwaRG_"
      }
    },
    {
      "cell_type": "code",
      "source": [
        ""
      ],
      "metadata": {
        "id": "ONFqXBsLaUfS"
      },
      "execution_count": null,
      "outputs": []
    },
    {
      "cell_type": "code",
      "source": [
        "h_letters = [letter for letter in 'fast']\n",
        "print(h_letters)"
      ],
      "metadata": {
        "colab": {
          "base_uri": "https://localhost:8080/"
        },
        "id": "RVNnevd7Z5wP",
        "outputId": "b5f69f5e-090e-4066-cef3-e6f53d1b7a79"
      },
      "execution_count": 35,
      "outputs": [
        {
          "output_type": "stream",
          "name": "stdout",
          "text": [
            "['f', 'a', 's', 't']\n"
          ]
        }
      ]
    },
    {
      "cell_type": "markdown",
      "source": [
        "In the above example, a new list is assigned to variable h_letters, and the list contains the items of the iterable string 'fast'. \n",
        "\n",
        "We call print() function to receive the output."
      ],
      "metadata": {
        "id": "cXHxENiTaNrg"
      }
    },
    {
      "cell_type": "markdown",
      "source": [
        "### Conditionals in List Comprehension\n",
        " with mathematical operators, integers and range()"
      ],
      "metadata": {
        "id": "3mvDQXFYbFan"
      }
    },
    {
      "cell_type": "markdown",
      "source": [
        "![image.png](data:image/png;base64,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)"
      ],
      "metadata": {
        "id": "y7ToC6xFbjDh"
      }
    },
    {
      "cell_type": "code",
      "source": [
        "number_list = [x for x in range(20) if x % 2 == 0]\n",
        "print(number_list)"
      ],
      "metadata": {
        "colab": {
          "base_uri": "https://localhost:8080/"
        },
        "id": "vr_dTko3bK9v",
        "outputId": "0c736ed3-4951-44da-9a2b-4272698788fd"
      },
      "execution_count": 36,
      "outputs": [
        {
          "output_type": "stream",
          "name": "stdout",
          "text": [
            "[0, 2, 4, 6, 8, 10, 12, 14, 16, 18]\n"
          ]
        }
      ]
    },
    {
      "cell_type": "markdown",
      "source": [
        "Nested If with List Comprehension "
      ],
      "metadata": {
        "id": "UZwQ36DIbxRW"
      }
    },
    {
      "cell_type": "code",
      "source": [
        "num_list = [y for y in range(100) if y % 2 == 0 if y % 5 == 0]\n",
        "print(num_list)"
      ],
      "metadata": {
        "colab": {
          "base_uri": "https://localhost:8080/"
        },
        "id": "VkWgJhCib0mO",
        "outputId": "893404d5-4e39-4062-f952-1738e99f6f27"
      },
      "execution_count": 38,
      "outputs": [
        {
          "output_type": "stream",
          "name": "stdout",
          "text": [
            "[0, 10, 20, 30, 40, 50, 60, 70, 80, 90]\n"
          ]
        }
      ]
    },
    {
      "cell_type": "markdown",
      "source": [
        "If...else with list comprehension "
      ],
      "metadata": {
        "id": "fmH3tdoXcYaO"
      }
    },
    {
      "cell_type": "code",
      "source": [
        "obj = [\"Even\" if i % 2 == 0 else \"Odd\" for i in range(10)]\n",
        "print(obj)"
      ],
      "metadata": {
        "colab": {
          "base_uri": "https://localhost:8080/"
        },
        "id": "8dqfPrYsccXx",
        "outputId": "dcea5ffe-7cd6-4670-9c5f-9a1640cbc3bb"
      },
      "execution_count": 39,
      "outputs": [
        {
          "output_type": "stream",
          "name": "stdout",
          "text": [
            "['Even', 'Odd', 'Even', 'Odd', 'Even', 'Odd', 'Even', 'Odd', 'Even', 'Odd']\n"
          ]
        }
      ]
    },
    {
      "cell_type": "code",
      "source": [
        "# returning pokemon csv and making one more list comprehension example\n",
        "# we will clasify pokemons based on high vs low speed. The threshold will be average speed\n",
        "\n",
        "treshold = sum(data.Speed)/len(data.Speed)\n",
        "data[\"speed_level\"] = [\"high\" if i > treshold else \"low\" for i in data.Speed]\n",
        "data.loc[:10, [\"speed_level\", \"Speed\"]]"
      ],
      "metadata": {
        "colab": {
          "base_uri": "https://localhost:8080/",
          "height": 394
        },
        "id": "c3wgkDrfiX67",
        "outputId": "a6a73f14-20f3-47b4-8e49-204aa7438663"
      },
      "execution_count": 40,
      "outputs": [
        {
          "output_type": "execute_result",
          "data": {
            "text/html": [
              "\n",
              "  <div id=\"df-de7cfd5b-0e61-4bc2-a580-72faefb4d50d\">\n",
              "    <div class=\"colab-df-container\">\n",
              "      <div>\n",
              "<style scoped>\n",
              "    .dataframe tbody tr th:only-of-type {\n",
              "        vertical-align: middle;\n",
              "    }\n",
              "\n",
              "    .dataframe tbody tr th {\n",
              "        vertical-align: top;\n",
              "    }\n",
              "\n",
              "    .dataframe thead th {\n",
              "        text-align: right;\n",
              "    }\n",
              "</style>\n",
              "<table border=\"1\" class=\"dataframe\">\n",
              "  <thead>\n",
              "    <tr style=\"text-align: right;\">\n",
              "      <th></th>\n",
              "      <th>speed_level</th>\n",
              "      <th>Speed</th>\n",
              "    </tr>\n",
              "  </thead>\n",
              "  <tbody>\n",
              "    <tr>\n",
              "      <th>0</th>\n",
              "      <td>low</td>\n",
              "      <td>45</td>\n",
              "    </tr>\n",
              "    <tr>\n",
              "      <th>1</th>\n",
              "      <td>low</td>\n",
              "      <td>60</td>\n",
              "    </tr>\n",
              "    <tr>\n",
              "      <th>2</th>\n",
              "      <td>high</td>\n",
              "      <td>80</td>\n",
              "    </tr>\n",
              "    <tr>\n",
              "      <th>3</th>\n",
              "      <td>high</td>\n",
              "      <td>80</td>\n",
              "    </tr>\n",
              "    <tr>\n",
              "      <th>4</th>\n",
              "      <td>low</td>\n",
              "      <td>65</td>\n",
              "    </tr>\n",
              "    <tr>\n",
              "      <th>5</th>\n",
              "      <td>high</td>\n",
              "      <td>80</td>\n",
              "    </tr>\n",
              "    <tr>\n",
              "      <th>6</th>\n",
              "      <td>high</td>\n",
              "      <td>100</td>\n",
              "    </tr>\n",
              "    <tr>\n",
              "      <th>7</th>\n",
              "      <td>high</td>\n",
              "      <td>100</td>\n",
              "    </tr>\n",
              "    <tr>\n",
              "      <th>8</th>\n",
              "      <td>high</td>\n",
              "      <td>100</td>\n",
              "    </tr>\n",
              "    <tr>\n",
              "      <th>9</th>\n",
              "      <td>low</td>\n",
              "      <td>43</td>\n",
              "    </tr>\n",
              "    <tr>\n",
              "      <th>10</th>\n",
              "      <td>low</td>\n",
              "      <td>58</td>\n",
              "    </tr>\n",
              "  </tbody>\n",
              "</table>\n",
              "</div>\n",
              "      <button class=\"colab-df-convert\" onclick=\"convertToInteractive('df-de7cfd5b-0e61-4bc2-a580-72faefb4d50d')\"\n",
              "              title=\"Convert this dataframe to an interactive table.\"\n",
              "              style=\"display:none;\">\n",
              "        \n",
              "  <svg xmlns=\"http://www.w3.org/2000/svg\" height=\"24px\"viewBox=\"0 0 24 24\"\n",
              "       width=\"24px\">\n",
              "    <path d=\"M0 0h24v24H0V0z\" fill=\"none\"/>\n",
              "    <path d=\"M18.56 5.44l.94 2.06.94-2.06 2.06-.94-2.06-.94-.94-2.06-.94 2.06-2.06.94zm-11 1L8.5 8.5l.94-2.06 2.06-.94-2.06-.94L8.5 2.5l-.94 2.06-2.06.94zm10 10l.94 2.06.94-2.06 2.06-.94-2.06-.94-.94-2.06-.94 2.06-2.06.94z\"/><path d=\"M17.41 7.96l-1.37-1.37c-.4-.4-.92-.59-1.43-.59-.52 0-1.04.2-1.43.59L10.3 9.45l-7.72 7.72c-.78.78-.78 2.05 0 2.83L4 21.41c.39.39.9.59 1.41.59.51 0 1.02-.2 1.41-.59l7.78-7.78 2.81-2.81c.8-.78.8-2.07 0-2.86zM5.41 20L4 18.59l7.72-7.72 1.47 1.35L5.41 20z\"/>\n",
              "  </svg>\n",
              "      </button>\n",
              "      \n",
              "  <style>\n",
              "    .colab-df-container {\n",
              "      display:flex;\n",
              "      flex-wrap:wrap;\n",
              "      gap: 12px;\n",
              "    }\n",
              "\n",
              "    .colab-df-convert {\n",
              "      background-color: #E8F0FE;\n",
              "      border: none;\n",
              "      border-radius: 50%;\n",
              "      cursor: pointer;\n",
              "      display: none;\n",
              "      fill: #1967D2;\n",
              "      height: 32px;\n",
              "      padding: 0 0 0 0;\n",
              "      width: 32px;\n",
              "    }\n",
              "\n",
              "    .colab-df-convert:hover {\n",
              "      background-color: #E2EBFA;\n",
              "      box-shadow: 0px 1px 2px rgba(60, 64, 67, 0.3), 0px 1px 3px 1px rgba(60, 64, 67, 0.15);\n",
              "      fill: #174EA6;\n",
              "    }\n",
              "\n",
              "    [theme=dark] .colab-df-convert {\n",
              "      background-color: #3B4455;\n",
              "      fill: #D2E3FC;\n",
              "    }\n",
              "\n",
              "    [theme=dark] .colab-df-convert:hover {\n",
              "      background-color: #434B5C;\n",
              "      box-shadow: 0px 1px 3px 1px rgba(0, 0, 0, 0.15);\n",
              "      filter: drop-shadow(0px 1px 2px rgba(0, 0, 0, 0.3));\n",
              "      fill: #FFFFFF;\n",
              "    }\n",
              "  </style>\n",
              "\n",
              "      <script>\n",
              "        const buttonEl =\n",
              "          document.querySelector('#df-de7cfd5b-0e61-4bc2-a580-72faefb4d50d button.colab-df-convert');\n",
              "        buttonEl.style.display =\n",
              "          google.colab.kernel.accessAllowed ? 'block' : 'none';\n",
              "\n",
              "        async function convertToInteractive(key) {\n",
              "          const element = document.querySelector('#df-de7cfd5b-0e61-4bc2-a580-72faefb4d50d');\n",
              "          const dataTable =\n",
              "            await google.colab.kernel.invokeFunction('convertToInteractive',\n",
              "                                                     [key], {});\n",
              "          if (!dataTable) return;\n",
              "\n",
              "          const docLinkHtml = 'Like what you see? Visit the ' +\n",
              "            '<a target=\"_blank\" href=https://colab.research.google.com/notebooks/data_table.ipynb>data table notebook</a>'\n",
              "            + ' to learn more about interactive tables.';\n",
              "          element.innerHTML = '';\n",
              "          dataTable['output_type'] = 'display_data';\n",
              "          await google.colab.output.renderOutput(dataTable, element);\n",
              "          const docLink = document.createElement('div');\n",
              "          docLink.innerHTML = docLinkHtml;\n",
              "          element.appendChild(docLink);\n",
              "        }\n",
              "      </script>\n",
              "    </div>\n",
              "  </div>\n",
              "  "
            ],
            "text/plain": [
              "   speed_level  Speed\n",
              "0          low     45\n",
              "1          low     60\n",
              "2         high     80\n",
              "3         high     80\n",
              "4          low     65\n",
              "5         high     80\n",
              "6         high    100\n",
              "7         high    100\n",
              "8         high    100\n",
              "9          low     43\n",
              "10         low     58"
            ]
          },
          "metadata": {},
          "execution_count": 40
        }
      ]
    },
    {
      "cell_type": "markdown",
      "source": [
        "###3. Cleaning Data\n",
        "\n",
        "We need to diagnose and clean data before exploring.\n",
        "Unclean data:\n",
        "\n",
        "Column name inconsistency like upper\n",
        "-lower case letter or space between words\n",
        "- missing data\n",
        "- different language\n",
        "\n",
        "We will use head, tail, columns, shape and info methods to diagnose data"
      ],
      "metadata": {
        "id": "ZQ2173XsjMlC"
      }
    },
    {
      "cell_type": "code",
      "source": [
        "data = pd.read_csv('/content/drive/MyDrive/pokemon.csv')\n",
        "data.head() #returns first 5 rows"
      ],
      "metadata": {
        "colab": {
          "base_uri": "https://localhost:8080/",
          "height": 206
        },
        "id": "MZG2wocpjZtj",
        "outputId": "31aa6ab5-fcc5-4193-84dd-b2db64271007"
      },
      "execution_count": 41,
      "outputs": [
        {
          "output_type": "execute_result",
          "data": {
            "text/html": [
              "\n",
              "  <div id=\"df-ff6b59a2-ab59-48f1-a45e-7880a020bfc7\">\n",
              "    <div class=\"colab-df-container\">\n",
              "      <div>\n",
              "<style scoped>\n",
              "    .dataframe tbody tr th:only-of-type {\n",
              "        vertical-align: middle;\n",
              "    }\n",
              "\n",
              "    .dataframe tbody tr th {\n",
              "        vertical-align: top;\n",
              "    }\n",
              "\n",
              "    .dataframe thead th {\n",
              "        text-align: right;\n",
              "    }\n",
              "</style>\n",
              "<table border=\"1\" class=\"dataframe\">\n",
              "  <thead>\n",
              "    <tr style=\"text-align: right;\">\n",
              "      <th></th>\n",
              "      <th>#</th>\n",
              "      <th>Name</th>\n",
              "      <th>Type 1</th>\n",
              "      <th>Type 2</th>\n",
              "      <th>HP</th>\n",
              "      <th>Attack</th>\n",
              "      <th>Defense</th>\n",
              "      <th>Sp. Atk</th>\n",
              "      <th>Sp. Def</th>\n",
              "      <th>Speed</th>\n",
              "      <th>Generation</th>\n",
              "      <th>Legendary</th>\n",
              "    </tr>\n",
              "  </thead>\n",
              "  <tbody>\n",
              "    <tr>\n",
              "      <th>0</th>\n",
              "      <td>1</td>\n",
              "      <td>Bulbasaur</td>\n",
              "      <td>Grass</td>\n",
              "      <td>Poison</td>\n",
              "      <td>45</td>\n",
              "      <td>49</td>\n",
              "      <td>49</td>\n",
              "      <td>65</td>\n",
              "      <td>65</td>\n",
              "      <td>45</td>\n",
              "      <td>1</td>\n",
              "      <td>False</td>\n",
              "    </tr>\n",
              "    <tr>\n",
              "      <th>1</th>\n",
              "      <td>2</td>\n",
              "      <td>Ivysaur</td>\n",
              "      <td>Grass</td>\n",
              "      <td>Poison</td>\n",
              "      <td>60</td>\n",
              "      <td>62</td>\n",
              "      <td>63</td>\n",
              "      <td>80</td>\n",
              "      <td>80</td>\n",
              "      <td>60</td>\n",
              "      <td>1</td>\n",
              "      <td>False</td>\n",
              "    </tr>\n",
              "    <tr>\n",
              "      <th>2</th>\n",
              "      <td>3</td>\n",
              "      <td>Venusaur</td>\n",
              "      <td>Grass</td>\n",
              "      <td>Poison</td>\n",
              "      <td>80</td>\n",
              "      <td>82</td>\n",
              "      <td>83</td>\n",
              "      <td>100</td>\n",
              "      <td>100</td>\n",
              "      <td>80</td>\n",
              "      <td>1</td>\n",
              "      <td>False</td>\n",
              "    </tr>\n",
              "    <tr>\n",
              "      <th>3</th>\n",
              "      <td>4</td>\n",
              "      <td>Mega Venusaur</td>\n",
              "      <td>Grass</td>\n",
              "      <td>Poison</td>\n",
              "      <td>80</td>\n",
              "      <td>100</td>\n",
              "      <td>123</td>\n",
              "      <td>122</td>\n",
              "      <td>120</td>\n",
              "      <td>80</td>\n",
              "      <td>1</td>\n",
              "      <td>False</td>\n",
              "    </tr>\n",
              "    <tr>\n",
              "      <th>4</th>\n",
              "      <td>5</td>\n",
              "      <td>Charmander</td>\n",
              "      <td>Fire</td>\n",
              "      <td>NaN</td>\n",
              "      <td>39</td>\n",
              "      <td>52</td>\n",
              "      <td>43</td>\n",
              "      <td>60</td>\n",
              "      <td>50</td>\n",
              "      <td>65</td>\n",
              "      <td>1</td>\n",
              "      <td>False</td>\n",
              "    </tr>\n",
              "  </tbody>\n",
              "</table>\n",
              "</div>\n",
              "      <button class=\"colab-df-convert\" onclick=\"convertToInteractive('df-ff6b59a2-ab59-48f1-a45e-7880a020bfc7')\"\n",
              "              title=\"Convert this dataframe to an interactive table.\"\n",
              "              style=\"display:none;\">\n",
              "        \n",
              "  <svg xmlns=\"http://www.w3.org/2000/svg\" height=\"24px\"viewBox=\"0 0 24 24\"\n",
              "       width=\"24px\">\n",
              "    <path d=\"M0 0h24v24H0V0z\" fill=\"none\"/>\n",
              "    <path d=\"M18.56 5.44l.94 2.06.94-2.06 2.06-.94-2.06-.94-.94-2.06-.94 2.06-2.06.94zm-11 1L8.5 8.5l.94-2.06 2.06-.94-2.06-.94L8.5 2.5l-.94 2.06-2.06.94zm10 10l.94 2.06.94-2.06 2.06-.94-2.06-.94-.94-2.06-.94 2.06-2.06.94z\"/><path d=\"M17.41 7.96l-1.37-1.37c-.4-.4-.92-.59-1.43-.59-.52 0-1.04.2-1.43.59L10.3 9.45l-7.72 7.72c-.78.78-.78 2.05 0 2.83L4 21.41c.39.39.9.59 1.41.59.51 0 1.02-.2 1.41-.59l7.78-7.78 2.81-2.81c.8-.78.8-2.07 0-2.86zM5.41 20L4 18.59l7.72-7.72 1.47 1.35L5.41 20z\"/>\n",
              "  </svg>\n",
              "      </button>\n",
              "      \n",
              "  <style>\n",
              "    .colab-df-container {\n",
              "      display:flex;\n",
              "      flex-wrap:wrap;\n",
              "      gap: 12px;\n",
              "    }\n",
              "\n",
              "    .colab-df-convert {\n",
              "      background-color: #E8F0FE;\n",
              "      border: none;\n",
              "      border-radius: 50%;\n",
              "      cursor: pointer;\n",
              "      display: none;\n",
              "      fill: #1967D2;\n",
              "      height: 32px;\n",
              "      padding: 0 0 0 0;\n",
              "      width: 32px;\n",
              "    }\n",
              "\n",
              "    .colab-df-convert:hover {\n",
              "      background-color: #E2EBFA;\n",
              "      box-shadow: 0px 1px 2px rgba(60, 64, 67, 0.3), 0px 1px 3px 1px rgba(60, 64, 67, 0.15);\n",
              "      fill: #174EA6;\n",
              "    }\n",
              "\n",
              "    [theme=dark] .colab-df-convert {\n",
              "      background-color: #3B4455;\n",
              "      fill: #D2E3FC;\n",
              "    }\n",
              "\n",
              "    [theme=dark] .colab-df-convert:hover {\n",
              "      background-color: #434B5C;\n",
              "      box-shadow: 0px 1px 3px 1px rgba(0, 0, 0, 0.15);\n",
              "      filter: drop-shadow(0px 1px 2px rgba(0, 0, 0, 0.3));\n",
              "      fill: #FFFFFF;\n",
              "    }\n",
              "  </style>\n",
              "\n",
              "      <script>\n",
              "        const buttonEl =\n",
              "          document.querySelector('#df-ff6b59a2-ab59-48f1-a45e-7880a020bfc7 button.colab-df-convert');\n",
              "        buttonEl.style.display =\n",
              "          google.colab.kernel.accessAllowed ? 'block' : 'none';\n",
              "\n",
              "        async function convertToInteractive(key) {\n",
              "          const element = document.querySelector('#df-ff6b59a2-ab59-48f1-a45e-7880a020bfc7');\n",
              "          const dataTable =\n",
              "            await google.colab.kernel.invokeFunction('convertToInteractive',\n",
              "                                                     [key], {});\n",
              "          if (!dataTable) return;\n",
              "\n",
              "          const docLinkHtml = 'Like what you see? Visit the ' +\n",
              "            '<a target=\"_blank\" href=https://colab.research.google.com/notebooks/data_table.ipynb>data table notebook</a>'\n",
              "            + ' to learn more about interactive tables.';\n",
              "          element.innerHTML = '';\n",
              "          dataTable['output_type'] = 'display_data';\n",
              "          await google.colab.output.renderOutput(dataTable, element);\n",
              "          const docLink = document.createElement('div');\n",
              "          docLink.innerHTML = docLinkHtml;\n",
              "          element.appendChild(docLink);\n",
              "        }\n",
              "      </script>\n",
              "    </div>\n",
              "  </div>\n",
              "  "
            ],
            "text/plain": [
              "   #           Name Type 1  Type 2  ...  Sp. Def  Speed  Generation  Legendary\n",
              "0  1      Bulbasaur  Grass  Poison  ...       65     45           1      False\n",
              "1  2        Ivysaur  Grass  Poison  ...       80     60           1      False\n",
              "2  3       Venusaur  Grass  Poison  ...      100     80           1      False\n",
              "3  4  Mega Venusaur  Grass  Poison  ...      120     80           1      False\n",
              "4  5     Charmander   Fire     NaN  ...       50     65           1      False\n",
              "\n",
              "[5 rows x 12 columns]"
            ]
          },
          "metadata": {},
          "execution_count": 41
        }
      ]
    },
    {
      "cell_type": "code",
      "source": [
        "data.tail()"
      ],
      "metadata": {
        "colab": {
          "base_uri": "https://localhost:8080/",
          "height": 206
        },
        "id": "6TxP7KIjjnr7",
        "outputId": "2dd19743-b656-45a1-8a0d-8e97c963080a"
      },
      "execution_count": 42,
      "outputs": [
        {
          "output_type": "execute_result",
          "data": {
            "text/html": [
              "\n",
              "  <div id=\"df-d91edc62-7383-42b9-b16a-e409e052ca43\">\n",
              "    <div class=\"colab-df-container\">\n",
              "      <div>\n",
              "<style scoped>\n",
              "    .dataframe tbody tr th:only-of-type {\n",
              "        vertical-align: middle;\n",
              "    }\n",
              "\n",
              "    .dataframe tbody tr th {\n",
              "        vertical-align: top;\n",
              "    }\n",
              "\n",
              "    .dataframe thead th {\n",
              "        text-align: right;\n",
              "    }\n",
              "</style>\n",
              "<table border=\"1\" class=\"dataframe\">\n",
              "  <thead>\n",
              "    <tr style=\"text-align: right;\">\n",
              "      <th></th>\n",
              "      <th>#</th>\n",
              "      <th>Name</th>\n",
              "      <th>Type 1</th>\n",
              "      <th>Type 2</th>\n",
              "      <th>HP</th>\n",
              "      <th>Attack</th>\n",
              "      <th>Defense</th>\n",
              "      <th>Sp. Atk</th>\n",
              "      <th>Sp. Def</th>\n",
              "      <th>Speed</th>\n",
              "      <th>Generation</th>\n",
              "      <th>Legendary</th>\n",
              "    </tr>\n",
              "  </thead>\n",
              "  <tbody>\n",
              "    <tr>\n",
              "      <th>795</th>\n",
              "      <td>796</td>\n",
              "      <td>Diancie</td>\n",
              "      <td>Rock</td>\n",
              "      <td>Fairy</td>\n",
              "      <td>50</td>\n",
              "      <td>100</td>\n",
              "      <td>150</td>\n",
              "      <td>100</td>\n",
              "      <td>150</td>\n",
              "      <td>50</td>\n",
              "      <td>6</td>\n",
              "      <td>True</td>\n",
              "    </tr>\n",
              "    <tr>\n",
              "      <th>796</th>\n",
              "      <td>797</td>\n",
              "      <td>Mega Diancie</td>\n",
              "      <td>Rock</td>\n",
              "      <td>Fairy</td>\n",
              "      <td>50</td>\n",
              "      <td>160</td>\n",
              "      <td>110</td>\n",
              "      <td>160</td>\n",
              "      <td>110</td>\n",
              "      <td>110</td>\n",
              "      <td>6</td>\n",
              "      <td>True</td>\n",
              "    </tr>\n",
              "    <tr>\n",
              "      <th>797</th>\n",
              "      <td>798</td>\n",
              "      <td>Hoopa Confined</td>\n",
              "      <td>Psychic</td>\n",
              "      <td>Ghost</td>\n",
              "      <td>80</td>\n",
              "      <td>110</td>\n",
              "      <td>60</td>\n",
              "      <td>150</td>\n",
              "      <td>130</td>\n",
              "      <td>70</td>\n",
              "      <td>6</td>\n",
              "      <td>True</td>\n",
              "    </tr>\n",
              "    <tr>\n",
              "      <th>798</th>\n",
              "      <td>799</td>\n",
              "      <td>Hoopa Unbound</td>\n",
              "      <td>Psychic</td>\n",
              "      <td>Dark</td>\n",
              "      <td>80</td>\n",
              "      <td>160</td>\n",
              "      <td>60</td>\n",
              "      <td>170</td>\n",
              "      <td>130</td>\n",
              "      <td>80</td>\n",
              "      <td>6</td>\n",
              "      <td>True</td>\n",
              "    </tr>\n",
              "    <tr>\n",
              "      <th>799</th>\n",
              "      <td>800</td>\n",
              "      <td>Volcanion</td>\n",
              "      <td>Fire</td>\n",
              "      <td>Water</td>\n",
              "      <td>80</td>\n",
              "      <td>110</td>\n",
              "      <td>120</td>\n",
              "      <td>130</td>\n",
              "      <td>90</td>\n",
              "      <td>70</td>\n",
              "      <td>6</td>\n",
              "      <td>True</td>\n",
              "    </tr>\n",
              "  </tbody>\n",
              "</table>\n",
              "</div>\n",
              "      <button class=\"colab-df-convert\" onclick=\"convertToInteractive('df-d91edc62-7383-42b9-b16a-e409e052ca43')\"\n",
              "              title=\"Convert this dataframe to an interactive table.\"\n",
              "              style=\"display:none;\">\n",
              "        \n",
              "  <svg xmlns=\"http://www.w3.org/2000/svg\" height=\"24px\"viewBox=\"0 0 24 24\"\n",
              "       width=\"24px\">\n",
              "    <path d=\"M0 0h24v24H0V0z\" fill=\"none\"/>\n",
              "    <path d=\"M18.56 5.44l.94 2.06.94-2.06 2.06-.94-2.06-.94-.94-2.06-.94 2.06-2.06.94zm-11 1L8.5 8.5l.94-2.06 2.06-.94-2.06-.94L8.5 2.5l-.94 2.06-2.06.94zm10 10l.94 2.06.94-2.06 2.06-.94-2.06-.94-.94-2.06-.94 2.06-2.06.94z\"/><path d=\"M17.41 7.96l-1.37-1.37c-.4-.4-.92-.59-1.43-.59-.52 0-1.04.2-1.43.59L10.3 9.45l-7.72 7.72c-.78.78-.78 2.05 0 2.83L4 21.41c.39.39.9.59 1.41.59.51 0 1.02-.2 1.41-.59l7.78-7.78 2.81-2.81c.8-.78.8-2.07 0-2.86zM5.41 20L4 18.59l7.72-7.72 1.47 1.35L5.41 20z\"/>\n",
              "  </svg>\n",
              "      </button>\n",
              "      \n",
              "  <style>\n",
              "    .colab-df-container {\n",
              "      display:flex;\n",
              "      flex-wrap:wrap;\n",
              "      gap: 12px;\n",
              "    }\n",
              "\n",
              "    .colab-df-convert {\n",
              "      background-color: #E8F0FE;\n",
              "      border: none;\n",
              "      border-radius: 50%;\n",
              "      cursor: pointer;\n",
              "      display: none;\n",
              "      fill: #1967D2;\n",
              "      height: 32px;\n",
              "      padding: 0 0 0 0;\n",
              "      width: 32px;\n",
              "    }\n",
              "\n",
              "    .colab-df-convert:hover {\n",
              "      background-color: #E2EBFA;\n",
              "      box-shadow: 0px 1px 2px rgba(60, 64, 67, 0.3), 0px 1px 3px 1px rgba(60, 64, 67, 0.15);\n",
              "      fill: #174EA6;\n",
              "    }\n",
              "\n",
              "    [theme=dark] .colab-df-convert {\n",
              "      background-color: #3B4455;\n",
              "      fill: #D2E3FC;\n",
              "    }\n",
              "\n",
              "    [theme=dark] .colab-df-convert:hover {\n",
              "      background-color: #434B5C;\n",
              "      box-shadow: 0px 1px 3px 1px rgba(0, 0, 0, 0.15);\n",
              "      filter: drop-shadow(0px 1px 2px rgba(0, 0, 0, 0.3));\n",
              "      fill: #FFFFFF;\n",
              "    }\n",
              "  </style>\n",
              "\n",
              "      <script>\n",
              "        const buttonEl =\n",
              "          document.querySelector('#df-d91edc62-7383-42b9-b16a-e409e052ca43 button.colab-df-convert');\n",
              "        buttonEl.style.display =\n",
              "          google.colab.kernel.accessAllowed ? 'block' : 'none';\n",
              "\n",
              "        async function convertToInteractive(key) {\n",
              "          const element = document.querySelector('#df-d91edc62-7383-42b9-b16a-e409e052ca43');\n",
              "          const dataTable =\n",
              "            await google.colab.kernel.invokeFunction('convertToInteractive',\n",
              "                                                     [key], {});\n",
              "          if (!dataTable) return;\n",
              "\n",
              "          const docLinkHtml = 'Like what you see? Visit the ' +\n",
              "            '<a target=\"_blank\" href=https://colab.research.google.com/notebooks/data_table.ipynb>data table notebook</a>'\n",
              "            + ' to learn more about interactive tables.';\n",
              "          element.innerHTML = '';\n",
              "          dataTable['output_type'] = 'display_data';\n",
              "          await google.colab.output.renderOutput(dataTable, element);\n",
              "          const docLink = document.createElement('div');\n",
              "          docLink.innerHTML = docLinkHtml;\n",
              "          element.appendChild(docLink);\n",
              "        }\n",
              "      </script>\n",
              "    </div>\n",
              "  </div>\n",
              "  "
            ],
            "text/plain": [
              "       #            Name   Type 1 Type 2  ...  Sp. Def  Speed  Generation  Legendary\n",
              "795  796         Diancie     Rock  Fairy  ...      150     50           6       True\n",
              "796  797    Mega Diancie     Rock  Fairy  ...      110    110           6       True\n",
              "797  798  Hoopa Confined  Psychic  Ghost  ...      130     70           6       True\n",
              "798  799   Hoopa Unbound  Psychic   Dark  ...      130     80           6       True\n",
              "799  800       Volcanion     Fire  Water  ...       90     70           6       True\n",
              "\n",
              "[5 rows x 12 columns]"
            ]
          },
          "metadata": {},
          "execution_count": 42
        }
      ]
    },
    {
      "cell_type": "code",
      "source": [
        "# columns returns the names of the features\n",
        "data.columns"
      ],
      "metadata": {
        "colab": {
          "base_uri": "https://localhost:8080/"
        },
        "id": "UaNDM8LIjqaz",
        "outputId": "b81df987-7b71-4bee-fde1-cc660d5e4df9"
      },
      "execution_count": 44,
      "outputs": [
        {
          "output_type": "execute_result",
          "data": {
            "text/plain": [
              "Index(['#', 'Name', 'Type 1', 'Type 2', 'HP', 'Attack', 'Defense', 'Sp. Atk',\n",
              "       'Sp. Def', 'Speed', 'Generation', 'Legendary'],\n",
              "      dtype='object')"
            ]
          },
          "metadata": {},
          "execution_count": 44
        }
      ]
    },
    {
      "cell_type": "code",
      "source": [
        "data.shape # returns the number of rows and columns in the table"
      ],
      "metadata": {
        "colab": {
          "base_uri": "https://localhost:8080/"
        },
        "id": "ZLtFcyV3jyHZ",
        "outputId": "2c053ae7-4f43-494b-8bbd-5a94c1fc4ac8"
      },
      "execution_count": 45,
      "outputs": [
        {
          "output_type": "execute_result",
          "data": {
            "text/plain": [
              "(800, 12)"
            ]
          },
          "metadata": {},
          "execution_count": 45
        }
      ]
    },
    {
      "cell_type": "code",
      "source": [
        "# info gives data type like dataframe, number of sample or row, number of feature or column, feature types and memory usage\n",
        "data.info()"
      ],
      "metadata": {
        "colab": {
          "base_uri": "https://localhost:8080/"
        },
        "id": "cZP2S87Kj9ey",
        "outputId": "6804122b-596c-4f1a-8e67-91dd3648babf"
      },
      "execution_count": 46,
      "outputs": [
        {
          "output_type": "stream",
          "name": "stdout",
          "text": [
            "<class 'pandas.core.frame.DataFrame'>\n",
            "RangeIndex: 800 entries, 0 to 799\n",
            "Data columns (total 12 columns):\n",
            " #   Column      Non-Null Count  Dtype \n",
            "---  ------      --------------  ----- \n",
            " 0   #           800 non-null    int64 \n",
            " 1   Name        799 non-null    object\n",
            " 2   Type 1      800 non-null    object\n",
            " 3   Type 2      414 non-null    object\n",
            " 4   HP          800 non-null    int64 \n",
            " 5   Attack      800 non-null    int64 \n",
            " 6   Defense     800 non-null    int64 \n",
            " 7   Sp. Atk     800 non-null    int64 \n",
            " 8   Sp. Def     800 non-null    int64 \n",
            " 9   Speed       800 non-null    int64 \n",
            " 10  Generation  800 non-null    int64 \n",
            " 11  Legendary   800 non-null    bool  \n",
            "dtypes: bool(1), int64(8), object(3)\n",
            "memory usage: 69.7+ KB\n"
          ]
        }
      ]
    },
    {
      "cell_type": "code",
      "source": [
        ""
      ],
      "metadata": {
        "id": "CFkMcCOgkHw6"
      },
      "execution_count": null,
      "outputs": []
    }
  ]
}